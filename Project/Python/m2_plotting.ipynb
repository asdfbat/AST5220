{
 "cells": [
  {
   "cell_type": "code",
   "execution_count": 8,
   "metadata": {},
   "outputs": [],
   "source": [
    "import numpy as np\n",
    "import matplotlib.pyplot as plt\n",
    "plt.rcParams.update({'font.size':16})"
   ]
  },
  {
   "cell_type": "code",
   "execution_count": 9,
   "metadata": {},
   "outputs": [
    {
     "data": {
      "text/plain": [
       "(-7.37059, -7.23043, -7.16515, -6.98419, 0.9999907657615029, '1.911290e-04')"
      ]
     },
     "execution_count": 9,
     "metadata": {},
     "output_type": "execute_result"
    }
   ],
   "source": [
    "data = np.loadtxt(\"../data/recombination.txt\")\n",
    "data_saha = np.loadtxt(\"../data/recombination_saha.txt\")\n",
    "\n",
    "x     = data[:,0]\n",
    "Xe    = data[:,1]\n",
    "ne    = data[:,2]\n",
    "tau   = data[:,3]\n",
    "dtau  = data[:,4]\n",
    "ddtau = data[:,5]\n",
    "g     = data[:,6]\n",
    "dg    = data[:,7]\n",
    "ddg   = data[:,8]\n",
    "\n",
    "Xe_saha = data_saha[:,1]\n",
    "ne_saha = data_saha[:,2]\n",
    "tau_saha = data_saha[:,3]\n",
    "dtau_saha  = data_saha[:,4]\n",
    "ddtau_saha = data_saha[:,5]\n",
    "\n",
    "x0_idx   = np.argmin(np.abs(x - 0))  # Index at which x is closest to zero (today).\n",
    "saha_idx = np.argmin(np.abs(Xe - 0.99))  # Index of end of Saha domain, and begining of Peebles, at Xe = 0.99.\n",
    "rec_idx  = np.argmin(np.abs(Xe - 0.5))  # Index of defined recombination point, at Xe = 0.5.\n",
    "rec_saha_idx  = np.argmin(np.abs(Xe_saha - 0.5))  # The above, but using only the Saha approximation.\n",
    "LS_idx   = np.argmax(g)  # Index of defined last scattering surface, at the maximum value of g.\n",
    "\n",
    "x[saha_idx], x[rec_saha_idx], x[rec_idx], x[LS_idx], np.trapz(g, x), \"%e\" % Xe[x0_idx]"
   ]
  },
  {
   "cell_type": "code",
   "execution_count": 10,
   "metadata": {},
   "outputs": [],
   "source": [
    "fig, ax = plt.subplots(1, 2, figsize=(13.4, 5), sharey=True)\n",
    "ax[0].semilogy(x, Xe, c=\"blue\", label=\"Xe, Peebles\", lw=2)\n",
    "ax[0].semilogy(x, Xe_saha, c=\"red\", label=\"Xe, Saha\", lw=2)\n",
    "ax[0].set_ylim(1e-5, 3)\n",
    "ax[0].set_xlim(-12, 0)\n",
    "ax[0].legend(loc=1)\n",
    "ax[0].set_xlabel(\"x\")\n",
    "ax[0].set_ylabel(\"Xe\")\n",
    "\n",
    "ax[1].semilogy(x, Xe, c=\"blue\", lw=2)\n",
    "ax[1].semilogy(x, Xe_saha, c=\"red\", lw=2)\n",
    "ax[1].axvline(x=x[saha_idx], ls=\":\", c=\"k\", lw=2, label=\"Saha limit\")\n",
    "ax[1].axvline(x=x[rec_saha_idx], ls=\"--\", c=\"r\", label=\"Rec. (Saha)\")\n",
    "ax[1].axvline(x=x[rec_idx], ls=\"--\", c=\"k\", label=\"Rec. (Peebles)\")\n",
    "ax[1].axvline(x=x[LS_idx], ls=\"-.\", c=\"k\", label=\"L.S.\")\n",
    "ax[1].legend(loc=3)\n",
    "ax[1].set_ylim(1e-5, 3)\n",
    "ax[1].set_xlim(-7.75, -6.4)\n",
    "ax[1].set_xlabel(\"x\")\n",
    "fig.tight_layout()\n",
    "fig.savefig(\"../m2_figs/Xe.pdf\", bbox_inches=\"tight\")\n",
    "plt.close(fig)"
   ]
  },
  {
   "cell_type": "code",
   "execution_count": 11,
   "metadata": {},
   "outputs": [],
   "source": [
    "fig, ax = plt.subplots(1, 2, figsize=(13.4, 5))\n",
    "ax[0].semilogy(x, tau, c=\"blue\", label=r\"$\\tau(x)$\", lw=2)\n",
    "ax[0].semilogy(x, -dtau, c=\"red\", label=r\"$-\\tau'(x)$\", lw=2)\n",
    "ax[0].semilogy(x, ddtau, c=\"green\", label=r\"$\\tau''(x)$\", lw=2)\n",
    "ax[0].legend(loc=1)\n",
    "ax[0].set_xlabel(\"x\")\n",
    "ax[0].set_xlim(-12, 0)\n",
    "ax[0].set_ylim(1e-9, 1e6)\n",
    "\n",
    "ax[1].semilogy(x, tau, c=\"blue\", lw=2)\n",
    "ax[1].semilogy(x, -dtau, c=\"red\", lw=2)\n",
    "ax[1].semilogy(x, ddtau, c=\"green\", lw=2)\n",
    "ax[1].axvline(x=x[saha_idx], ls=\":\", c=\"k\", lw=2, label=\"Saha limit\")\n",
    "ax[1].axvline(x=x[rec_idx], ls=\"--\", c=\"k\", label=\"Rec.\")\n",
    "ax[1].axvline(x=x[LS_idx], ls=\"-.\", c=\"k\", label=\"L.S.\")\n",
    "ax[1].legend(loc=1)\n",
    "ax[1].set_xlabel(\"x\")\n",
    "ax[1].set_ylim(5e-2, 2e3)\n",
    "ax[1].set_xlim(-7.75, -6.2);\n",
    "fig.tight_layout()\n",
    "fig.savefig(\"../m2_figs/tau.pdf\", bbox_inches=\"tight\")\n",
    "plt.close(fig)"
   ]
  },
  {
   "cell_type": "code",
   "execution_count": 12,
   "metadata": {},
   "outputs": [],
   "source": [
    "fig, ax = plt.subplots(3, figsize=(8, 9), sharex=True)\n",
    "ax[0].semilogy(x, Xe, c=\"k\", lw=2, label=r\"$X_e$\")\n",
    "ax[0].axvline(x=x[saha_idx], ls=\":\", c=\"k\", lw=2, label=\"Saha limit\")\n",
    "ax[0].set_ylim(0.9893, 0.9905)\n",
    "ax[0].set_xlim(-7.372, -7.368)\n",
    "ax[0].legend(loc=1)\n",
    "\n",
    "ax[1].semilogy(x, tau, c=\"blue\", lw=2, label=r\"$\\tau(x)$\")\n",
    "ax[1].axvline(x=x[saha_idx], ls=\":\", c=\"k\", lw=2)\n",
    "ax[1].set_ylim(4.28e1, 4.4e1)\n",
    "ax[1].set_xlim(-7.372, -7.368)\n",
    "ax[1].legend(loc=1)\n",
    "\n",
    "ax[2].semilogy(x, -dtau, c=\"red\", lw=2, label=r\"$-\\tau'(x)$\")\n",
    "ax[2].semilogy(x, ddtau, c=\"green\", lw=2, label=r\"$\\tau''(x)$\")\n",
    "ax[2].axvline(x=x[saha_idx], ls=\":\", c=\"k\", lw=2)\n",
    "ax[2].set_ylim(2e2, 5e2)\n",
    "ax[2].set_xlim(-7.372, -7.368)\n",
    "ax[2].legend(loc=1)\n",
    "plt.xticks(rotation=45);\n",
    "fig.tight_layout()\n",
    "fig.savefig(\"../m2_figs/num_stab.pdf\", bbox_inches=\"tight\")\n",
    "plt.close(fig)"
   ]
  },
  {
   "cell_type": "code",
   "execution_count": 13,
   "metadata": {},
   "outputs": [
    {
     "name": "stdout",
     "output_type": "stream",
     "text": [
      "0.0955678877360791 0.004915631404012388\n"
     ]
    }
   ],
   "source": [
    "dg_scale = np.max(g)/np.max(np.abs(dg)); dg_scaled = dg*dg_scale\n",
    "ddg_scale = np.max(g)/np.max(np.abs(ddg)); ddg_scaled = ddg*ddg_scale\n",
    "print(dg_scale, ddg_scale);\n",
    "\n",
    "fig, ax = plt.subplots(1, 2, figsize=(13.4, 5), sharey=True)\n",
    "ax[0].plot(x, g, lw=2, c=\"blue\", label=r\"$\\tilde{g}(x)$\")\n",
    "ax[0].plot(x, dg_scaled, lw=2, c=\"red\", label = r\"$\\tilde{g}'(x)$ (scaled)\")\n",
    "ax[0].plot(x, ddg_scaled, lw=2, c=\"green\", label = r\"$\\tilde{g}''(x)$ (scaled)\")\n",
    "ax[0].set_xlim(-12, 0)\n",
    "ax[0].legend(loc=1)\n",
    "\n",
    "ax[1].plot(x, g, lw=2, c=\"blue\")\n",
    "ax[1].plot(x, dg_scaled, lw=2, c=\"red\")\n",
    "ax[1].plot(x, ddg_scaled, lw=2, c=\"green\")\n",
    "ax[1].axvline(x=x[saha_idx], ls=\":\", c=\"k\", lw=2, label=\"Saha limit\")\n",
    "ax[1].axvline(x=x[rec_idx], ls=\"--\", c=\"k\", label=\"Rec.\")\n",
    "ax[1].axvline(x=x[LS_idx], ls=\"-.\", c=\"k\", label=\"L.S.\")\n",
    "ax[1].legend(loc=1)\n",
    "ax[1].set_xlim(-7.4, -6.5);\n",
    "fig.tight_layout()\n",
    "fig.savefig(\"../m2_figs/g_tilde.pdf\", bbox_inches=\"tight\")\n",
    "plt.close(fig)"
   ]
  },
  {
   "cell_type": "code",
   "execution_count": 14,
   "metadata": {},
   "outputs": [],
   "source": [
    "fig, ax = plt.subplots(1, 2, figsize=(13.4, 5))\n",
    "ax[0].semilogy(x, ne, c=\"blue\", label=\"ne, Peebles\", lw=2)\n",
    "ax[0].set_ylim(1e-5, 1e15)\n",
    "ax[0].set_xlim(-12, 0)\n",
    "ax[0].legend(loc=1)\n",
    "ax[0].set_xlabel(\"x\")\n",
    "ax[0].set_ylabel(\"ne\")\n",
    "\n",
    "ax[1].semilogy(x, ne, c=\"blue\", lw=2)\n",
    "ax[1].axvline(x=x[saha_idx], ls=\":\", c=\"k\", lw=2, label=\"Saha limit\")\n",
    "ax[1].axvline(x=x[rec_saha_idx], ls=\"--\", c=\"r\", label=\"Rec. (Saha)\")\n",
    "ax[1].axvline(x=x[rec_idx], ls=\"--\", c=\"k\", label=\"Rec. (Peebles)\")\n",
    "ax[1].axvline(x=x[LS_idx], ls=\"-.\", c=\"k\", label=\"L.S.\")\n",
    "ax[1].legend(loc=3)\n",
    "ax[1].set_ylim(1e4, 1e10)\n",
    "ax[1].set_xlim(-7.75, -6.4)\n",
    "ax[1].set_xlabel(\"x\")\n",
    "fig.tight_layout()\n",
    "fig.savefig(\"../m2_figs/ne.pdf\", bbox_inches=\"tight\")\n",
    "plt.close(fig)"
   ]
  },
  {
   "cell_type": "code",
   "execution_count": null,
   "metadata": {},
   "outputs": [],
   "source": []
  }
 ],
 "metadata": {
  "file_extension": ".py",
  "kernelspec": {
   "display_name": "Python 3",
   "language": "python",
   "name": "python3"
  },
  "language_info": {
   "codemirror_mode": {
    "name": "ipython",
    "version": 3
   },
   "file_extension": ".py",
   "mimetype": "text/x-python",
   "name": "python",
   "nbconvert_exporter": "python",
   "pygments_lexer": "ipython3",
   "version": "3.7.5"
  },
  "mimetype": "text/x-python",
  "name": "python",
  "npconvert_exporter": "python",
  "pygments_lexer": "ipython3",
  "version": 3
 },
 "nbformat": 4,
 "nbformat_minor": 2
}
